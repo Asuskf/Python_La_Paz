{
  "nbformat": 4,
  "nbformat_minor": 0,
  "metadata": {
    "colab": {
      "name": "Python_La_Paz-sinonimos.ipynb",
      "provenance": [],
      "authorship_tag": "ABX9TyOzc7fMj0jgIs+Y0dgzZ5RH",
      "include_colab_link": true
    },
    "kernelspec": {
      "name": "python3",
      "display_name": "Python 3"
    },
    "language_info": {
      "name": "python"
    }
  },
  "cells": [
    {
      "cell_type": "markdown",
      "metadata": {
        "id": "view-in-github",
        "colab_type": "text"
      },
      "source": [
        "<a href=\"https://colab.research.google.com/github/Asuskf/Python_La_Paz/blob/main/Python_La_Paz_sinonimos.ipynb\" target=\"_parent\"><img src=\"https://colab.research.google.com/assets/colab-badge.svg\" alt=\"Open In Colab\"/></a>"
      ]
    },
    {
      "cell_type": "code",
      "metadata": {
        "colab": {
          "base_uri": "https://localhost:8080/"
        },
        "id": "8-1aEzgDd2X2",
        "outputId": "17e79dd6-b6cf-4a6a-ac36-6627ced41a20"
      },
      "source": [
        "import nltk\n",
        "from itertools import chain\n",
        "nltk.download('wordnet')\n",
        "from nltk.corpus import wordnet"
      ],
      "execution_count": 1,
      "outputs": [
        {
          "output_type": "stream",
          "name": "stdout",
          "text": [
            "[nltk_data] Downloading package wordnet to /root/nltk_data...\n",
            "[nltk_data]   Unzipping corpora/wordnet.zip.\n"
          ]
        },
        {
          "output_type": "execute_result",
          "data": {
            "text/plain": [
              "True"
            ]
          },
          "metadata": {},
          "execution_count": 1
        }
      ]
    },
    {
      "cell_type": "code",
      "metadata": {
        "colab": {
          "base_uri": "https://localhost:8080/"
        },
        "id": "Ie-NE0n0efGq",
        "outputId": "f06d6003-2887-44a1-cb35-b910a9c1a564"
      },
      "source": [
        "synonyms = wordnet.synsets('change')\n",
        "set(chain.from_iterable([Word.lemma_names() for Word in synonyms]))"
      ],
      "execution_count": 6,
      "outputs": [
        {
          "output_type": "execute_result",
          "data": {
            "text/plain": [
              "{'alter',\n",
              " 'alteration',\n",
              " 'change',\n",
              " 'commute',\n",
              " 'convert',\n",
              " 'deepen',\n",
              " 'exchange',\n",
              " 'interchange',\n",
              " 'modification',\n",
              " 'modify',\n",
              " 'shift',\n",
              " 'switch',\n",
              " 'transfer',\n",
              " 'variety',\n",
              " 'vary'}"
            ]
          },
          "metadata": {},
          "execution_count": 6
        }
      ]
    },
    {
      "cell_type": "code",
      "metadata": {
        "id": "Iu_3rOikesMv",
        "colab": {
          "base_uri": "https://localhost:8080/"
        },
        "outputId": "76822962-7b44-40f6-c2c6-ccfa55a93e65"
      },
      "source": [
        "synonyms = wordnet.synsets('cambio')\n",
        "set(chain.from_iterable([Word.lemma_names() for Word in synonyms]))"
      ],
      "execution_count": 7,
      "outputs": [
        {
          "output_type": "execute_result",
          "data": {
            "text/plain": [
              "set()"
            ]
          },
          "metadata": {},
          "execution_count": 7
        }
      ]
    },
    {
      "cell_type": "code",
      "metadata": {
        "id": "7hty7XXuqdhy",
        "colab": {
          "base_uri": "https://localhost:8080/"
        },
        "outputId": "d2770286-61a0-42fd-ea45-c76f511d3a38"
      },
      "source": [
        "pip install beautifulsoup4"
      ],
      "execution_count": 8,
      "outputs": [
        {
          "output_type": "stream",
          "name": "stdout",
          "text": [
            "Requirement already satisfied: beautifulsoup4 in /usr/local/lib/python3.7/dist-packages (4.6.3)\n"
          ]
        }
      ]
    },
    {
      "cell_type": "code",
      "metadata": {
        "id": "TGAP7itqqh2B"
      },
      "source": [
        "from bs4 import BeautifulSoup"
      ],
      "execution_count": 9,
      "outputs": []
    },
    {
      "cell_type": "code",
      "metadata": {
        "id": "o2fe0ZR7sON-"
      },
      "source": [
        "import requests"
      ],
      "execution_count": 10,
      "outputs": []
    },
    {
      "cell_type": "code",
      "metadata": {
        "id": "U6xpoXZGrlPS"
      },
      "source": [
        "word = 'instrucciones'\n",
        "r = requests.get('https://www.sinonimosonline.com/{}/'.format(word))\n",
        "soup = BeautifulSoup(r.text, 'html.parser')\n",
        "sinonymList = soup.find_all('p', class_ = 'sinonimos')\n",
        "words = [element for element in [word.split('>')[-1] for element in sinonymList for word in str(element).split('</a>')] if len(element) > 1 ]\n",
        "words.append(word)"
      ],
      "execution_count": 11,
      "outputs": []
    },
    {
      "cell_type": "code",
      "metadata": {
        "colab": {
          "base_uri": "https://localhost:8080/"
        },
        "id": "y0j7NjVWsYJ4",
        "outputId": "49006613-259b-4653-ceeb-993cb1f53ef1"
      },
      "source": [
        "[element for element in words]"
      ],
      "execution_count": 12,
      "outputs": [
        {
          "output_type": "execute_result",
          "data": {
            "text/plain": [
              "['formaciones',\n",
              " 'capacitaciones',\n",
              " 'culturas',\n",
              " 'erudiciones',\n",
              " 'mandatos',\n",
              " 'instrucciones']"
            ]
          },
          "metadata": {},
          "execution_count": 12
        }
      ]
    },
    {
      "cell_type": "code",
      "metadata": {
        "id": "560h80Cc05ba"
      },
      "source": [
        ""
      ],
      "execution_count": null,
      "outputs": []
    }
  ]
}